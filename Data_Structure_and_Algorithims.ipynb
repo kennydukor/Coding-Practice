{
  "nbformat": 4,
  "nbformat_minor": 0,
  "metadata": {
    "colab": {
      "name": "Data Structure and Algorithims.ipynb",
      "provenance": [],
      "authorship_tag": "ABX9TyPh14m3tVlWFENxF7ky4A4Y",
      "include_colab_link": true
    },
    "kernelspec": {
      "name": "python3",
      "display_name": "Python 3"
    }
  },
  "cells": [
    {
      "cell_type": "markdown",
      "metadata": {
        "id": "view-in-github",
        "colab_type": "text"
      },
      "source": [
        "<a href=\"https://colab.research.google.com/github/kennydukor/Coding-Practice/blob/master/Data_Structure_and_Algorithims.ipynb\" target=\"_parent\"><img src=\"https://colab.research.google.com/assets/colab-badge.svg\" alt=\"Open In Colab\"/></a>"
      ]
    },
    {
      "cell_type": "code",
      "metadata": {
        "id": "vh7LkNf8NUju"
      },
      "source": [
        "import time"
      ],
      "execution_count": 1,
      "outputs": []
    },
    {
      "cell_type": "markdown",
      "metadata": {
        "id": "BAu6K-jNMKEZ"
      },
      "source": [
        "##Fibonacci"
      ]
    },
    {
      "cell_type": "markdown",
      "metadata": {
        "id": "eH37QJHFO10t"
      },
      "source": [
        "Fibonacci: Naive Recursive Approach (Approach 1)"
      ]
    },
    {
      "cell_type": "code",
      "metadata": {
        "id": "AXH0iGXQL_Oe"
      },
      "source": [
        "def fib_1(n):\n",
        "  if n==1 or n==2:\n",
        "    result = 1\n",
        "  else:\n",
        "    result = fib_1(n-1) + fib_1(n-2)\n",
        "  return result"
      ],
      "execution_count": 2,
      "outputs": []
    },
    {
      "cell_type": "code",
      "metadata": {
        "colab": {
          "base_uri": "https://localhost:8080/"
        },
        "id": "PQoyQb1xNeuX",
        "outputId": "78089023-fbf8-4c93-b256-957b13a15dc7"
      },
      "source": [
        "start_time = time.time()\n",
        "print(fib_1(40))\n",
        "print(\"--- %s seconds ---\" % (time.time() - start_time))"
      ],
      "execution_count": 3,
      "outputs": [
        {
          "output_type": "stream",
          "text": [
            "102334155\n",
            "--- 26.073227643966675 seconds ---\n"
          ],
          "name": "stdout"
        }
      ]
    },
    {
      "cell_type": "markdown",
      "metadata": {
        "id": "oRj75ZPEN0I2"
      },
      "source": [
        "Fibonacci: Memoized Solution (Approach 2)"
      ]
    },
    {
      "cell_type": "code",
      "metadata": {
        "id": "HGgR05jXNoji"
      },
      "source": [
        "def fib_2(n, memo):\n",
        "  if memo[n] != None:\n",
        "    return memo[n]\n",
        "  if n==1 or n==2:\n",
        "    result = 1\n",
        "  else:\n",
        "    result = fib_2(n-1, memo) + fib_2(n-2, memo)\n",
        "    memo[n] = result\n",
        "  return result"
      ],
      "execution_count": 4,
      "outputs": []
    },
    {
      "cell_type": "code",
      "metadata": {
        "colab": {
          "base_uri": "https://localhost:8080/"
        },
        "id": "Wp2RUolBO3_w",
        "outputId": "c7657c5f-b428-4e69-a252-17000f129c18"
      },
      "source": [
        "start_time = time.time()\n",
        "n = 500\n",
        "memo = [None] * (n+1)\n",
        "print(fib_2(n, memo))\n",
        "print(\"--- %s seconds ---\" % (time.time() - start_time))"
      ],
      "execution_count": 5,
      "outputs": [
        {
          "output_type": "stream",
          "text": [
            "139423224561697880139724382870407283950070256587697307264108962948325571622863290691557658876222521294125\n",
            "--- 0.0023322105407714844 seconds ---\n"
          ],
          "name": "stdout"
        }
      ]
    },
    {
      "cell_type": "markdown",
      "metadata": {
        "id": "7-NPvdxWRoNk"
      },
      "source": [
        "Fibonacci: Bottom-Up Approach"
      ]
    },
    {
      "cell_type": "code",
      "metadata": {
        "id": "6C3qs3JeO_RR"
      },
      "source": [
        "def fib_bottom_up(n):\n",
        "  if n==1 or n==2:\n",
        "    return 1\n",
        "  dyn_array = [None]* (n+1)\n",
        "  dyn_array[1] = 1\n",
        "  dyn_array[2] = 1\n",
        "\n",
        "  for i in range(3, n+1):\n",
        "    dyn_array[i] = dyn_array[i-1] + dyn_array[i-2]\n",
        "  return dyn_array[n]"
      ],
      "execution_count": 6,
      "outputs": []
    },
    {
      "cell_type": "code",
      "metadata": {
        "colab": {
          "base_uri": "https://localhost:8080/"
        },
        "id": "al3ci-1RPbyz",
        "outputId": "abce3f0a-49f5-40d1-9256-b5b71de2123b"
      },
      "source": [
        "start_time = time.time()\n",
        "n = 8000\n",
        "print(fib_bottom_up(n))\n",
        "print(\"--- %s seconds ---\" % (time.time() - start_time))"
      ],
      "execution_count": 7,
      "outputs": [
        {
          "output_type": "stream",
          "text": [
            "3561533204460626739768914905427460387141369539110154082973500638991885819498711815304829246223963373749873423083216889782034228521693267175594214186111978816819236959743284321273097535654614718808050244321699002512466203835566030351092652496815708455980825654877181538741827129421689128991879649533246136168998590044965735035810856774605383628378979290580539135791985063484992877932473487054068899476937399295193905527420792975902913836012199062687063537510151753758100626402591751183925883151617648375005313453493271681248233059858496951790113255897429539560654496639601132039360167542277472498901884679404509894269174519328918160745655327632006736189766801968534195725815421784083495026969542066047758885029695257263330719223956309043195653930347983496830801755572982419821881275569179922973415736010289561700699477021488635509784509168019589640190234350021673802856836365767446249424907273016689053388000785637444921523414602360860001530139933615215383220927084750528293779491002813557093860863839463287251443115581618266959802005566973874793475256663122039030056061200186123236430592279484254766158650545069933528061680141046574115103014532101595841822474764213889385114174543352137856680694687244097968099924183815689652779302937329729253678579649215884078334428338037327451220722810587680172255878795449524781554973097109174140632623167659027450550461045055883872225659796812847075286475208205923875668405160707778568995306926178023176315799965539425437791083258303238592641010878264249883586034912756021070468742995902773902487497010335873840408520900059054071283266816325489230566003110549946685475230821114509971542662742044237174282248020953398789607528748909125\n",
            "--- 0.009027957916259766 seconds ---\n"
          ],
          "name": "stdout"
        }
      ]
    },
    {
      "cell_type": "code",
      "metadata": {
        "id": "TtcRmknwS9Ux"
      },
      "source": [
        ""
      ],
      "execution_count": null,
      "outputs": []
    }
  ]
}